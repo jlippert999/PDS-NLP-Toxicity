{
 "cells": [
  {
   "attachments": {},
   "cell_type": "markdown",
   "metadata": {},
   "source": [
    "# Overview\n",
    "While attended the [Portland Data Science](https://www.meetup.com/Portland-Data-Science-Group) Natural Language meetups, I built the following classification algorithm for identifying toxic and non-toxic text in Wikipedia reviewed comments.  \n",
    "\n",
    "#### The original data can be found here: http://dive-into.info/"
   ]
  },
  {
   "cell_type": "markdown",
   "metadata": {},
   "source": [
    "### Imports used to clean data and Stem words"
   ]
  },
  {
   "cell_type": "code",
   "execution_count": null,
   "metadata": {
    "collapsed": true
   },
   "outputs": [],
   "source": [
    "import pandas as pd\n",
    "import os\n",
    "import re\n",
    "import time\n",
    "import numpy as np\n",
    "\n",
    "import nltk\n",
    "from nltk.stem import PorterStemmer\n",
    "stem = PorterStemmer()"
   ]
  },
  {
   "cell_type": "markdown",
   "metadata": {},
   "source": [
    "### Methods to import and clean the data files"
   ]
  },
  {
   "cell_type": "code",
   "execution_count": 2,
   "metadata": {
    "collapsed": true
   },
   "outputs": [],
   "source": [
    "def stem_in_place(someString):\n",
    "    listOfStrings = someString.split(' ')\n",
    "    return ' '.join([stem.stem(word) for word in listOfStrings])\n",
    "\n",
    "def remove_long_words(someString):\n",
    "    listOfStrings = someString.split(' ')\n",
    "    return ' '.join([word for word in listOfStrings if len(word) < 30])\n",
    "\n",
    "def cleanData():\n",
    "    \n",
    "    # read the comments and scores...\n",
    "    df=pd.read_csv('toxicity_annotated_comments.tsv', sep='\\t')\n",
    "    scores=pd.read_csv('toxicity_annotations.tsv', sep='\\t')\n",
    "\n",
    "    df[\"mean_score\"] = pd.Series(scores.groupby(\"rev_id\",as_index=False).mean()[\"toxicity_score\"])\n",
    "    df[\"median_score\"] = pd.Series(scores.groupby(\"rev_id\",as_index=False).median()[\"toxicity_score\"])\n",
    "\n",
    "    # create catgorical variable toxicity_score: if mean_score < 0, toxicity_score=1, otherwise 0\n",
    "    df[\"toxicity_score\"] = (df[\"mean_score\"] < 0).astype(int)\n",
    "    0\n",
    "    # Remove HTML elements, 'NEWLINE_TOKEN', UTC\n",
    "    from bs4 import BeautifulSoup\n",
    "    df.comment = df.comment.apply(lambda x: BeautifulSoup(x, 'html5lib').get_text())\n",
    "    df.comment = df.comment.apply(lambda x: x.replace('NEWLINE_TOKEN', ' '))\n",
    "    df.comment = df.comment.apply(lambda x: x.replace('UTC', ' '))\n",
    "        \n",
    "    \n",
    "    # add extra features...\n",
    "    df.logged_in = df.logged_in.astype(int)\n",
    "    df['length'] = df.comment.apply(lambda x: len(x))\n",
    "    df['num_exclamation_marks'] = df.comment.apply(lambda comment: comment.count('!'))\n",
    "    df['num_words'] = df.comment.apply(lambda comment: len(comment.split()))\n",
    "    df['num_unique_words'] = df.comment.apply(lambda comment: len(set(w for w in comment.split())))\n",
    "\n",
    "    # remove all but word, lower, remove extra spaces (for readability)\n",
    "    df.comment = df.comment.apply(lambda x: re.sub(\"[^a-zA-Z\\s']\", '', x))\n",
    "    df.comment = df.comment.apply(str.lower)    \n",
    "    df.comment = df.comment.str.replace('  ', ' ')\n",
    "    df.comment = df.comment.str.strip()    \n",
    "    df.comment = df.comment.apply(remove_long_words)\n",
    "    \n",
    "    # remove rows with blank comments...\n",
    "    df = df[df.comment.str.len() > 0]\n",
    "    \n",
    "    # stem words using NLTK PorterStemmer...\n",
    "    df.comment =df.comment.apply(stem_in_place)\n",
    "    \n",
    "    return df"
   ]
  },
  {
   "cell_type": "markdown",
   "metadata": {},
   "source": [
    "## Open files and clean comment column"
   ]
  },
  {
   "cell_type": "code",
   "execution_count": 3,
   "metadata": {
    "collapsed": true
   },
   "outputs": [],
   "source": [
    "dfClean = cleanData()"
   ]
  },
  {
   "cell_type": "code",
   "execution_count": 4,
   "metadata": {},
   "outputs": [
    {
     "data": {
      "text/html": [
       "<div>\n",
       "<style>\n",
       "    .dataframe thead tr:only-child th {\n",
       "        text-align: right;\n",
       "    }\n",
       "\n",
       "    .dataframe thead th {\n",
       "        text-align: left;\n",
       "    }\n",
       "\n",
       "    .dataframe tbody tr th {\n",
       "        vertical-align: top;\n",
       "    }\n",
       "</style>\n",
       "<table border=\"1\" class=\"dataframe\">\n",
       "  <thead>\n",
       "    <tr style=\"text-align: right;\">\n",
       "      <th></th>\n",
       "      <th>rev_id</th>\n",
       "      <th>comment</th>\n",
       "      <th>year</th>\n",
       "      <th>logged_in</th>\n",
       "      <th>ns</th>\n",
       "      <th>sample</th>\n",
       "      <th>split</th>\n",
       "      <th>mean_score</th>\n",
       "      <th>median_score</th>\n",
       "      <th>toxicity_score</th>\n",
       "      <th>length</th>\n",
       "      <th>num_exclamation_marks</th>\n",
       "      <th>num_words</th>\n",
       "      <th>num_unique_words</th>\n",
       "    </tr>\n",
       "  </thead>\n",
       "  <tbody>\n",
       "    <tr>\n",
       "      <th>0</th>\n",
       "      <td>2232.0</td>\n",
       "      <td>thi one can make an analog in mathemat term by...</td>\n",
       "      <td>2002</td>\n",
       "      <td>1</td>\n",
       "      <td>article</td>\n",
       "      <td>random</td>\n",
       "      <td>train</td>\n",
       "      <td>0.4</td>\n",
       "      <td>0.5</td>\n",
       "      <td>0</td>\n",
       "      <td>651</td>\n",
       "      <td>0</td>\n",
       "      <td>109</td>\n",
       "      <td>85</td>\n",
       "    </tr>\n",
       "    <tr>\n",
       "      <th>1</th>\n",
       "      <td>4216.0</td>\n",
       "      <td>clarif for you and zundark' right i should hav...</td>\n",
       "      <td>2002</td>\n",
       "      <td>1</td>\n",
       "      <td>user</td>\n",
       "      <td>random</td>\n",
       "      <td>train</td>\n",
       "      <td>0.5</td>\n",
       "      <td>0.0</td>\n",
       "      <td>0</td>\n",
       "      <td>611</td>\n",
       "      <td>0</td>\n",
       "      <td>113</td>\n",
       "      <td>78</td>\n",
       "    </tr>\n",
       "    <tr>\n",
       "      <th>2</th>\n",
       "      <td>8953.0</td>\n",
       "      <td>elect or elector jhk</td>\n",
       "      <td>2002</td>\n",
       "      <td>0</td>\n",
       "      <td>article</td>\n",
       "      <td>random</td>\n",
       "      <td>test</td>\n",
       "      <td>0.1</td>\n",
       "      <td>0.0</td>\n",
       "      <td>0</td>\n",
       "      <td>25</td>\n",
       "      <td>0</td>\n",
       "      <td>4</td>\n",
       "      <td>4</td>\n",
       "    </tr>\n",
       "    <tr>\n",
       "      <th>3</th>\n",
       "      <td>26547.0</td>\n",
       "      <td>thi is such a fun entri  devotchka i onc had a...</td>\n",
       "      <td>2002</td>\n",
       "      <td>1</td>\n",
       "      <td>article</td>\n",
       "      <td>random</td>\n",
       "      <td>train</td>\n",
       "      <td>0.6</td>\n",
       "      <td>0.0</td>\n",
       "      <td>0</td>\n",
       "      <td>2976</td>\n",
       "      <td>0</td>\n",
       "      <td>472</td>\n",
       "      <td>288</td>\n",
       "    </tr>\n",
       "    <tr>\n",
       "      <th>4</th>\n",
       "      <td>28959.0</td>\n",
       "      <td>pleas relat the ozon hole to increas in cancer...</td>\n",
       "      <td>2002</td>\n",
       "      <td>1</td>\n",
       "      <td>article</td>\n",
       "      <td>random</td>\n",
       "      <td>test</td>\n",
       "      <td>0.2</td>\n",
       "      <td>0.0</td>\n",
       "      <td>0</td>\n",
       "      <td>197</td>\n",
       "      <td>0</td>\n",
       "      <td>31</td>\n",
       "      <td>29</td>\n",
       "    </tr>\n",
       "  </tbody>\n",
       "</table>\n",
       "</div>"
      ],
      "text/plain": [
       "    rev_id                                            comment  year  \\\n",
       "0   2232.0  thi one can make an analog in mathemat term by...  2002   \n",
       "1   4216.0  clarif for you and zundark' right i should hav...  2002   \n",
       "2   8953.0                               elect or elector jhk  2002   \n",
       "3  26547.0  thi is such a fun entri  devotchka i onc had a...  2002   \n",
       "4  28959.0  pleas relat the ozon hole to increas in cancer...  2002   \n",
       "\n",
       "   logged_in       ns  sample  split  mean_score  median_score  \\\n",
       "0          1  article  random  train         0.4           0.5   \n",
       "1          1     user  random  train         0.5           0.0   \n",
       "2          0  article  random   test         0.1           0.0   \n",
       "3          1  article  random  train         0.6           0.0   \n",
       "4          1  article  random   test         0.2           0.0   \n",
       "\n",
       "   toxicity_score  length  num_exclamation_marks  num_words  num_unique_words  \n",
       "0               0     651                      0        109                85  \n",
       "1               0     611                      0        113                78  \n",
       "2               0      25                      0          4                 4  \n",
       "3               0    2976                      0        472               288  \n",
       "4               0     197                      0         31                29  "
      ]
     },
     "execution_count": 4,
     "metadata": {},
     "output_type": "execute_result"
    }
   ],
   "source": [
    "dfClean.head()"
   ]
  },
  {
   "cell_type": "markdown",
   "metadata": {},
   "source": [
    "#### To save a little time use a percentage of the data"
   ]
  },
  {
   "cell_type": "code",
   "execution_count": 75,
   "metadata": {
    "collapsed": true
   },
   "outputs": [],
   "source": [
    "#df = dfClean.sample(frac=.2,random_state=200)\n",
    "df = dfClean # 100%"
   ]
  },
  {
   "cell_type": "markdown",
   "metadata": {},
   "source": [
    "## Use scikit-learn to split into train and test sets "
   ]
  },
  {
   "cell_type": "code",
   "execution_count": 9,
   "metadata": {},
   "outputs": [],
   "source": [
    "from sklearn.model_selection import train_test_split\n",
    "\n",
    "train_set_df, test_set_df = train_test_split(df, test_size=0.2, random_state=987)\n",
    "all_words_train = train_set_df.comment\n",
    "all_words_test = test_set_df.comment\n"
   ]
  },
  {
   "cell_type": "markdown",
   "metadata": {},
   "source": [
    "### Distribution of Comments"
   ]
  },
  {
   "cell_type": "code",
   "execution_count": 45,
   "metadata": {},
   "outputs": [
    {
     "data": {
      "image/png": "[encoded data removed]",
      "text/plain": [
       "<matplotlib.figure.Figure at 0x20b3b7a6da0>"
      ]
     },
     "metadata": {},
     "output_type": "display_data"
    }
   ],
   "source": [
    "sns.countplot(x=\"toxicity_score\", data=train_set_df, palette=\"Greens_d\");"
   ]
  },
  {
   "cell_type": "markdown",
   "metadata": {},
   "source": [
    "## Visualize Features\n",
    "\n",
    "Use NLTK frequency distribution to review the top words in the corpus"
   ]
  },
  {
   "cell_type": "code",
   "execution_count": 25,
   "metadata": {},
   "outputs": [
    {
     "name": "stdout",
     "output_type": "stream",
     "text": [
      "[('thi', 15661), (\"'\", 13833), ('articl', 11842), ('page', 9206), (\"n't\", 9044), ('wa', 8937), ('edit', 6451), ('wikipedia', 6171), ('use', 5514), ('ha', 5147), ('would', 4995), ('pleas', 4936), ('like', 4819), ('one', 4759), ('delet', 4321), ('ani', 4260), ('hi', 4133), ('sourc', 3745), ('thank', 3683), ('talk', 3566), ('see', 3547), ('think', 3538), ('know', 3369), ('make', 3344), ('also', 3340), ('becaus', 3035), ('peopl', 3032), ('time', 2977), ('go', 2896), ('get', 2884), (\"'m\", 2864), ('onli', 2783), ('whi', 2762), ('say', 2712), ('name', 2691), ('remov', 2584), ('need', 2569), ('may', 2538), ('block', 2524), ('discuss', 2402), ('person', 2399), ('want', 2385), ('link', 2346), ('help', 2252), ('look', 2205), ('work', 2199), ('even', 2170), ('inform', 2065), ('good', 2056), ('user', 2042)]\n"
     ]
    }
   ],
   "source": [
    "from nltk.tokenize import word_tokenize\n",
    "from nltk.corpus import stopwords\n",
    "\n",
    "# tokenize to words\n",
    "words = list(itertools.chain(*all_words_train.apply(word_tokenize).tolist()))\n",
    "\n",
    "# remove stops\n",
    "words = [word for word in words if word not in stopwords.words('english')]\n",
    "\n",
    "# get the frequency distribution of each word and plot the top 50\n",
    "fdist = nltk.FreqDist(words)  \n",
    "print(fdist.most_common(50)) "
   ]
  },
  {
   "cell_type": "code",
   "execution_count": 26,
   "metadata": {},
   "outputs": [
    {
     "data": {
      "image/png": "[encoded data removed]",
      "text/plain": [
       "<matplotlib.figure.Figure at 0x20b49014d30>"
      ]
     },
     "metadata": {},
     "output_type": "display_data"
    }
   ],
   "source": [
    "import itertools\n",
    "import seaborn as sns\n",
    "import matplotlib.pyplot as plt\n",
    "\n",
    "%matplotlib inline\n",
    "\n",
    "# convert frequency dictionary to pandas dataframe...\n",
    "fdistDF=pd.DataFrame.from_dict(fdist,orient='index')\n",
    "fdistDF.columns = ['frequency']\n",
    "fdistDF['word'] = fdistDF.index\n",
    "\n",
    "# use the top 100...\n",
    "fdistDF = fdistDF.sort_values(by='frequency', ascending=False).head(50)\n",
    "\n",
    "# plot the top features...\n",
    "sns.stripplot(x=\"word\", y=\"frequency\", data=fdistDF, jitter=True);\n",
    "plt.xticks(rotation=90);"
   ]
  },
  {
   "cell_type": "markdown",
   "metadata": {},
   "source": [
    "## Vectorize words using scikit-learn TfidfVectorizer\n",
    "- Use the built in fuction to remove stop words\n",
    "- Create ngrams of 1,2 and 3 words\n",
    "- Tfidf was selected over the CountVectorizer as it returned better results\n",
    "### Possible Enhancements\n",
    "- Tweak parameters\n",
    "- Use Pipeline to pipe the Count Vectorizer into the Tfidf Vectorizer"
   ]
  },
  {
   "cell_type": "code",
   "execution_count": 76,
   "metadata": {},
   "outputs": [],
   "source": [
    "from sklearn.feature_extraction.text import TfidfVectorizer\n",
    "\n",
    "vectorizer = TfidfVectorizer(min_df=2, ngram_range=(1, 3),\n",
    "                             stop_words='english',  strip_accents='unicode',  norm='l2',          \n",
    "                             max_features = 5000)\n",
    "\n",
    "X_train = vectorizer.fit_transform(all_words_train)\n",
    "X_test = vectorizer.transform(all_words_test)\n",
    "\n",
    "Y_train = train_set_df.toxicity_score\n",
    "Y_test = test_set_df.toxicity_score"
   ]
  },
  {
   "cell_type": "markdown",
   "metadata": {},
   "source": [
    "# Classification\n",
    "Use a number of classifers from Sci-kit Learn to find the top four\n",
    "\n",
    "###### 'batch_classify'  - using the list of classifiers, train, and test data - display the accuracy & confusion matrix for each classifier"
   ]
  },
  {
   "cell_type": "code",
   "execution_count": 77,
   "metadata": {
    "collapsed": true
   },
   "outputs": [],
   "source": [
    "from sklearn import metrics\n",
    "from sklearn.metrics import confusion_matrix, classification_report\n",
    "\n",
    "def batch_classify(classifiers, X_train, Y_train, X_test, Y_test):\n",
    "    \n",
    "    no_classifiers = len(classifiers.keys())\n",
    "\n",
    "    df_results = pd.DataFrame(data=np.zeros(shape=(no_classifiers, 4)), columns = ['classifier', 'train_score', 'test_score', 'training_time'])\n",
    "    predictions = {}\n",
    "    count = 0\n",
    "    for key, classifier in classifiers.items():\n",
    "        t_start = time.clock()\n",
    "        \n",
    "        # classify\n",
    "        classifier.fit(X_train, Y_train)\n",
    "        \n",
    "        t_end = time.clock()\n",
    "        t_diff = t_end - t_start\n",
    "        \n",
    "        train_score = classifier.score(X_train, Y_train)\n",
    "        test_score = classifier.score(X_test, Y_test)\n",
    "        \n",
    "        \n",
    "        pred = classifier.predict(X_test)\n",
    "        \n",
    "        report = classification_report(Y_test, pred)\n",
    "        accuracy = metrics.accuracy_score(Y_test, pred)\n",
    "                \n",
    "        print('\\n----------------------------------------------------')\n",
    "        print(key + ' Classification Report')        \n",
    "        print(report)\n",
    "        print(key + ' Confusion Matrix')\n",
    "        print(confusion_matrix(Y_test, pred))\n",
    "        print(key + ' Accuracy', accuracy)\n",
    "                        \n",
    "        \n",
    "        predictions[key] = pred\n",
    "        df_results.loc[count,'classifier'] = key\n",
    "        df_results.loc[count,'train_score'] = \"{0:.2f}\".format(train_score * 100)\n",
    "        df_results.loc[count,'test_score'] = \"{0:.2f}\".format(test_score * 100)\n",
    "        df_results.loc[count,'training_time'] = t_diff\n",
    "                       \n",
    "        count+=1\n",
    "        \n",
    "    return df_results, predictions"
   ]
  },
  {
   "cell_type": "markdown",
   "metadata": {},
   "source": [
    "### The Classifiers to use"
   ]
  },
  {
   "cell_type": "code",
   "execution_count": 49,
   "metadata": {},
   "outputs": [],
   "source": [
    "from sklearn import linear_model\n",
    "from sklearn import tree\n",
    "from sklearn.ensemble import GradientBoostingClassifier, RandomForestClassifier, VotingClassifier\n",
    "from sklearn.gaussian_process.kernels import RBF\n",
    "from sklearn.linear_model import LogisticRegression\n",
    "from sklearn.naive_bayes import GaussianNB, BernoulliNB, MultinomialNB\n",
    "from sklearn.neural_network import MLPClassifier\n",
    "from sklearn.neighbors import KNeighborsClassifier\n",
    "from sklearn.svm import SVC, NuSVC, LinearSVC\n",
    "\n",
    "test_classifiers = {\n",
    "    \"Logistic Regression\": LogisticRegression(),\n",
    "    \"Nearest Neighbors\": KNeighborsClassifier(n_neighbors=3, weights='distance'),\n",
    "    \"Linear SVM\": SVC(),\n",
    "    \"Gradient Boosting\": GradientBoostingClassifier(),\n",
    "    \"Decision Tree\": tree.DecisionTreeClassifier(),\n",
    "    \"Random Forest\": RandomForestClassifier(n_estimators = 100),\n",
    "    \"Neural Net\": MLPClassifier(alpha = 1),\n",
    "    \"Multinomial NB\": MultinomialNB(),\n",
    "    \"Bernoulli NB\": BernoulliNB(),\n",
    "    \"SGDClassifier\": linear_model.SGDClassifier(max_iter=90),\n",
    "    \"Linear SVC\": LinearSVC()\n",
    "}"
   ]
  },
  {
   "cell_type": "markdown",
   "metadata": {},
   "source": [
    "### Batch classify using test classifiers"
   ]
  },
  {
   "cell_type": "code",
   "execution_count": 78,
   "metadata": {},
   "outputs": [
    {
     "name": "stdout",
     "output_type": "stream",
     "text": [
      "\n",
      "----------------------------------------------------\n",
      "Logistic Regression Classification Report\n",
      "             precision    recall  f1-score   support\n",
      "\n",
      "          0       0.88      0.99      0.93      5196\n",
      "          1       0.87      0.44      0.58      1190\n",
      "\n",
      "avg / total       0.88      0.88      0.87      6386\n",
      "\n",
      "Logistic Regression Confusion Matrix\n",
      "[[5121   75]\n",
      " [ 672  518]]\n",
      "Logistic Regression Accuracy 0.883025367992\n",
      "\n",
      "----------------------------------------------------\n",
      "Nearest Neighbors Classification Report\n",
      "             precision    recall  f1-score   support\n",
      "\n",
      "          0       0.84      0.99      0.91      5196\n",
      "          1       0.76      0.20      0.32      1190\n",
      "\n",
      "avg / total       0.83      0.84      0.80      6386\n",
      "\n",
      "Nearest Neighbors Confusion Matrix\n",
      "[[5120   76]\n",
      " [ 947  243]]\n",
      "Nearest Neighbors Accuracy 0.839805825243\n"
     ]
    },
    {
     "name": "stderr",
     "output_type": "stream",
     "text": [
      "C:\\Users\\jeffl\\Anaconda3\\lib\\site-packages\\sklearn\\metrics\\classification.py:1135: UndefinedMetricWarning: Precision and F-score are ill-defined and being set to 0.0 in labels with no predicted samples.\n",
      "  'precision', 'predicted', average, warn_for)\n"
     ]
    },
    {
     "name": "stdout",
     "output_type": "stream",
     "text": [
      "\n",
      "----------------------------------------------------\n",
      "Linear SVM Classification Report\n",
      "             precision    recall  f1-score   support\n",
      "\n",
      "          0       0.81      1.00      0.90      5196\n",
      "          1       0.00      0.00      0.00      1190\n",
      "\n",
      "avg / total       0.66      0.81      0.73      6386\n",
      "\n",
      "Linear SVM Confusion Matrix\n",
      "[[5196    0]\n",
      " [1190    0]]\n",
      "Linear SVM Accuracy 0.813654870028\n",
      "\n",
      "----------------------------------------------------\n",
      "Gradient Boosting Classification Report\n",
      "             precision    recall  f1-score   support\n",
      "\n",
      "          0       0.86      1.00      0.92      5196\n",
      "          1       0.94      0.30      0.46      1190\n",
      "\n",
      "avg / total       0.88      0.87      0.84      6386\n",
      "\n",
      "Gradient Boosting Confusion Matrix\n",
      "[[5175   21]\n",
      " [ 833  357]]\n",
      "Gradient Boosting Accuracy 0.86626996555\n",
      "\n",
      "----------------------------------------------------\n",
      "Decision Tree Classification Report\n",
      "             precision    recall  f1-score   support\n",
      "\n",
      "          0       0.90      0.91      0.91      5196\n",
      "          1       0.59      0.57      0.58      1190\n",
      "\n",
      "avg / total       0.85      0.85      0.85      6386\n",
      "\n",
      "Decision Tree Confusion Matrix\n",
      "[[4731  465]\n",
      " [ 507  683]]\n",
      "Decision Tree Accuracy 0.847792045099\n",
      "\n",
      "----------------------------------------------------\n",
      "Random Forest Classification Report\n",
      "             precision    recall  f1-score   support\n",
      "\n",
      "          0       0.89      0.98      0.93      5196\n",
      "          1       0.86      0.48      0.62      1190\n",
      "\n",
      "avg / total       0.89      0.89      0.88      6386\n",
      "\n",
      "Random Forest Confusion Matrix\n",
      "[[5099   97]\n",
      " [ 614  576]]\n",
      "Random Forest Accuracy 0.888662699655\n",
      "\n",
      "----------------------------------------------------\n",
      "Neural Net Classification Report\n",
      "             precision    recall  f1-score   support\n",
      "\n",
      "          0       0.85      1.00      0.92      5196\n",
      "          1       0.98      0.22      0.35      1190\n",
      "\n",
      "avg / total       0.87      0.85      0.81      6386\n",
      "\n",
      "Neural Net Confusion Matrix\n",
      "[[5192    4]\n",
      " [ 934  256]]\n",
      "Neural Net Accuracy 0.853116191669\n",
      "\n",
      "----------------------------------------------------\n",
      "Multinomial NB Classification Report\n",
      "             precision    recall  f1-score   support\n",
      "\n",
      "          0       0.88      0.99      0.93      5196\n",
      "          1       0.89      0.39      0.54      1190\n",
      "\n",
      "avg / total       0.88      0.88      0.86      6386\n",
      "\n",
      "Multinomial NB Confusion Matrix\n",
      "[[5140   56]\n",
      " [ 726  464]]\n",
      "Multinomial NB Accuracy 0.877544628876\n",
      "\n",
      "----------------------------------------------------\n",
      "Bernoulli NB Classification Report\n",
      "             precision    recall  f1-score   support\n",
      "\n",
      "          0       0.94      0.52      0.67      5196\n",
      "          1       0.29      0.86      0.43      1190\n",
      "\n",
      "avg / total       0.82      0.58      0.63      6386\n",
      "\n",
      "Bernoulli NB Confusion Matrix\n",
      "[[2705 2491]\n",
      " [ 171 1019]]\n",
      "Bernoulli NB Accuracy 0.583150642029\n",
      "\n",
      "----------------------------------------------------\n",
      "SGDClassifier Classification Report\n",
      "             precision    recall  f1-score   support\n",
      "\n",
      "          0       0.88      0.99      0.93      5196\n",
      "          1       0.94      0.40      0.56      1190\n",
      "\n",
      "avg / total       0.89      0.88      0.86      6386\n",
      "\n",
      "SGDClassifier Confusion Matrix\n",
      "[[5166   30]\n",
      " [ 717  473]]\n",
      "SGDClassifier Accuracy 0.883025367992\n",
      "\n",
      "----------------------------------------------------\n",
      "Linear SVC Classification Report\n",
      "             precision    recall  f1-score   support\n",
      "\n",
      "          0       0.90      0.97      0.93      5196\n",
      "          1       0.78      0.53      0.63      1190\n",
      "\n",
      "avg / total       0.88      0.88      0.88      6386\n",
      "\n",
      "Linear SVC Confusion Matrix\n",
      "[[5018  178]\n",
      " [ 560  630]]\n",
      "Linear SVC Accuracy 0.884434700908\n"
     ]
    }
   ],
   "source": [
    "results_df, predictions = batch_classify(test_classifiers, X_train, Y_train, X_test, Y_test)"
   ]
  },
  {
   "cell_type": "markdown",
   "metadata": {},
   "source": [
    "### Show Classification Resuts"
   ]
  },
  {
   "cell_type": "code",
   "execution_count": 79,
   "metadata": {},
   "outputs": [
    {
     "name": "stdout",
     "output_type": "stream",
     "text": [
      "Batch Classify Results\n",
      "\n",
      "             classifier train_score test_score  training_time\n",
      "5         Random Forest       99.58      88.87      61.252534\n",
      "10           Linear SVC       92.85      88.44       0.226948\n",
      "0   Logistic Regression       90.48      88.30       0.276109\n",
      "9         SGDClassifier       89.61      88.30       0.448043\n",
      "7        Multinomial NB       89.44      87.75       0.011489\n",
      "3     Gradient Boosting       87.89      86.63      26.393835\n",
      "6            Neural Net       86.00      85.31      89.332083\n",
      "4         Decision Tree       99.58      84.78      22.737968\n",
      "1     Nearest Neighbors       99.56      83.98       0.007647\n",
      "2            Linear SVM       81.99      81.37      65.546870\n",
      "8          Bernoulli NB       58.70      58.32       0.019599\n"
     ]
    }
   ],
   "source": [
    "print(\"Batch Classify Results\\n\")\n",
    "print(results_df.sort_values(by='test_score', ascending=False))"
   ]
  },
  {
   "cell_type": "markdown",
   "metadata": {},
   "source": [
    "### Select the top four classifiers"
   ]
  },
  {
   "cell_type": "code",
   "execution_count": 80,
   "metadata": {},
   "outputs": [
    {
     "name": "stdout",
     "output_type": "stream",
     "text": [
      "dict_keys(['Random Forest', 'Linear SVC', 'Logistic Regression', 'SGDClassifier'])\n"
     ]
    }
   ],
   "source": [
    "top_classifiers = {}\n",
    "for k in results_df.sort_values(by='test_score', ascending=False).head(4).classifier.tolist():\n",
    "    top_classifiers[k] = test_classifiers[k]\n",
    "    \n",
    "print(top_classifiers.keys())"
   ]
  },
  {
   "cell_type": "markdown",
   "metadata": {},
   "source": [
    "### Use the Voting Classifier to process the top four classifiers"
   ]
  },
  {
   "cell_type": "code",
   "execution_count": 81,
   "metadata": {},
   "outputs": [
    {
     "name": "stdout",
     "output_type": "stream",
     "text": [
      "\n",
      "----------------------------------------------------\n",
      "Voted Classifier Classification Report\n",
      "             precision    recall  f1-score   support\n",
      "\n",
      "          0       0.88      0.99      0.93      5196\n",
      "          1       0.92      0.42      0.57      1190\n",
      "\n",
      "avg / total       0.89      0.88      0.87      6386\n",
      "\n",
      "Voted Classifier Confusion Matrix\n",
      "[[5154   42]\n",
      " [ 696  494]]\n",
      "Voted Classifier Accuracy 0.884434700908\n"
     ]
    }
   ],
   "source": [
    "from sklearn.ensemble import VotingClassifier\n",
    "\n",
    "# process voting classifier\n",
    "def vote_classify(votingClassifier, X_train, Y_train, X_test, Y_test):\n",
    "    \n",
    "    votingClassifier.fit(X_train, Y_train)  \n",
    "    pred = votingClassifier.predict(X_test)  \n",
    "    \n",
    "    report = classification_report(Y_test, pred)\n",
    "    accuracy = metrics.accuracy_score(Y_test, pred)\n",
    "    \n",
    "    print('\\n----------------------------------------------------')\n",
    "    print('Voted Classifier Classification Report')\n",
    "    print(report)\n",
    "    print('Voted Classifier Confusion Matrix')\n",
    "    print(confusion_matrix(Y_test, pred))\n",
    "    print('Voted Classifier Accuracy', accuracy)\n",
    "\n",
    "    return pred\n",
    "\n",
    "# convert dictionary to tuple (key, value)\n",
    "top = [(k,v) for k,v in top_classifiers.items()] \n",
    "votingClassifier = VotingClassifier(estimators=top, voting='hard')\n",
    "\n",
    "# voted classify\n",
    "votedPredictions = vote_classify(votingClassifier, X_train, Y_train, X_test, Y_test)"
   ]
  },
  {
   "cell_type": "markdown",
   "metadata": {},
   "source": [
    "### Plot Top Classifiers"
   ]
  },
  {
   "cell_type": "code",
   "execution_count": 82,
   "metadata": {},
   "outputs": [
    {
     "data": {
      "image/png": "[encoded data removed]",
      "text/plain": [
       "<matplotlib.figure.Figure at 0x20b44832a58>"
      ]
     },
     "metadata": {},
     "output_type": "display_data"
    }
   ],
   "source": [
    "from sklearn.calibration import calibration_curve, CalibratedClassifierCV\n",
    "\n",
    "def plotResultsProbabilityCalibration(classifiers, X_train, y_train, X_test, y_test):\n",
    "    # <!-- collapse=True -->\n",
    "    plt.figure(figsize=(9, 9))\n",
    "    ax1 = plt.subplot2grid((3, 1), (0, 0), rowspan=2)\n",
    "    ax2 = plt.subplot2grid((3, 1), (2, 0))\n",
    "    \n",
    "    ax1.plot([0, 1], [0, 1], \"k:\", label=\"Perfectly calibrated\")\n",
    "    \n",
    "    for name, clf in classifiers.items():\n",
    "    \n",
    "        clf.fit(X_train, y_train)\n",
    "        if hasattr(clf, \"predict_proba\"):\n",
    "            prob_pos = clf.predict_proba(X_test)[:, 1]\n",
    "        else:  # use decision function\n",
    "            prob_pos = clf.decision_function(X_test)\n",
    "            prob_pos = \\\n",
    "                (prob_pos - prob_pos.min()) / (prob_pos.max() - prob_pos.min())\n",
    "        fraction_of_positives, mean_predicted_value = \\\n",
    "            calibration_curve(y_test, prob_pos, n_bins=10)\n",
    "    \n",
    "        ax1.plot(mean_predicted_value, fraction_of_positives, \"s-\",\n",
    "                 label=\"%s\" % (name, ))\n",
    "    \n",
    "        ax2.hist(prob_pos, range=(0, 1), bins=10, label=name,\n",
    "                 histtype=\"step\", lw=2)\n",
    "    \n",
    "    ax1.set_ylabel(\"Fraction of positives\")\n",
    "    ax1.set_ylim([-0.05, 1.05])\n",
    "    ax1.legend(loc=\"lower right\")\n",
    "    ax1.set_title('Calibration plots  (reliability curve)')\n",
    "    \n",
    "    ax2.set_xlabel(\"Mean predicted value\")\n",
    "    ax2.set_ylabel(\"Count\")\n",
    "    ax2.legend(loc=\"upper center\", ncol=2)\n",
    "    \n",
    "    plt.tight_layout()\n",
    "    \n",
    "# plot top classifiers...\n",
    "plotResultsProbabilityCalibration(top_classifiers, X_train, Y_train, X_test, Y_test)"
   ]
  },
  {
   "cell_type": "code",
   "execution_count": null,
   "metadata": {
    "collapsed": true
   },
   "outputs": [],
   "source": []
  },
  {
   "cell_type": "code",
   "execution_count": null,
   "metadata": {
    "collapsed": true
   },
   "outputs": [],
   "source": []
  },
  {
   "cell_type": "markdown",
   "metadata": {},
   "source": [
    "### Optionally save to a csv file for further review"
   ]
  },
  {
   "cell_type": "code",
   "execution_count": null,
   "metadata": {
    "collapsed": true
   },
   "outputs": [],
   "source": [
    "output = pd.DataFrame( data={\"id\":test_set_df.rev_id, \n",
    "                             \"original toxicity\": test_set_df.toxicity_score, \n",
    "                             \"Logistic Regression\": predictions_best[\"Logistic Regression\"],\n",
    "                             \"Nearest Neighbors\": predictions[\"Nearest Neighbors\"],\n",
    "                             \"Linear SVM\": predictions[\"Linear SVM\"],\n",
    "                             \"Gradient Boosting\": predictions[\"Gradient Boosting\"],\n",
    "                             \"Decision Tree\": predictions[\"Decision Tree\"],\n",
    "                             \"Random Forest\": predictions_best[\"Random Forest\"],\n",
    "                             \"Neural Net\": predictions[\"Neural Net\"],\n",
    "                             \"Multinomial NB\": predictions_best[\"Multinomial NB\"],\n",
    "                             \"Bernoulli NB\": predictions[\"Bernoulli NB\"],\n",
    "                             \"SGDClassifier\": predictions_best[\"SGDClassifier\"],\n",
    "                             \"Linear SVC\": predictions_best[\"Linear SVC\"],\n",
    "                             \"Voted\":  votedPredictions,\n",
    "                             \"zcomment\":test_set_df.comment} )\n",
    "#output.to_csv('AllPredictions.csv', index=False, quoting=3, escapechar='\\\\')"
   ]
  },
  {
   "cell_type": "markdown",
   "metadata": {},
   "source": [
    "# Analyze Other Features"
   ]
  },
  {
   "cell_type": "markdown",
   "metadata": {},
   "source": [
    "## Visualize other features \n",
    "Consider adding these as additional features (not currently used)"
   ]
  },
  {
   "cell_type": "code",
   "execution_count": 88,
   "metadata": {},
   "outputs": [
    {
     "data": {
      "text/plain": [
       "<matplotlib.axes._subplots.AxesSubplot at 0x20b453e40f0>"
      ]
     },
     "execution_count": 88,
     "metadata": {},
     "output_type": "execute_result"
    },
    {
     "data": {
      "image/png": "[encoded data removed]",
      "text/plain": [
       "<matplotlib.figure.Figure at 0x20b45536860>"
      ]
     },
     "metadata": {},
     "output_type": "display_data"
    }
   ],
   "source": [
    "otherfeatures = train_set_df[['logged_in','length','num_exclamation_marks','num_words']]\n",
    "sns.heatmap(data=otherfeatures.corr(), annot=True)"
   ]
  },
  {
   "cell_type": "markdown",
   "metadata": {},
   "source": [
    "### Classify other features using Random Forest to find which ones might have preditive power"
   ]
  },
  {
   "cell_type": "code",
   "execution_count": 83,
   "metadata": {},
   "outputs": [
    {
     "name": "stdout",
     "output_type": "stream",
     "text": [
      "             precision    recall  f1-score   support\n",
      "\n",
      "          0       0.84      0.92      0.88      5196\n",
      "          1       0.40      0.23      0.29      1190\n",
      "\n",
      "avg / total       0.76      0.79      0.77      6386\n",
      "\n",
      "0.79094895083\n"
     ]
    }
   ],
   "source": [
    "X_train_other_df = train_set_df[['logged_in','length','num_exclamation_marks','num_words']]\n",
    "X_test_other_df  =  test_set_df[['logged_in','length','num_exclamation_marks','num_words']]\n",
    "\n",
    "from sklearn.preprocessing import StandardScaler\n",
    "sc = StandardScaler()\n",
    "X_train_other = sc.fit_transform(X_train_other_df)\n",
    "X_test_other = sc.transform(X_test_other_df)\n",
    "\n",
    "classifier = RandomForestClassifier(n_estimators = 100, criterion = 'entropy', random_state = 0)\n",
    "classifier.fit(X_train_other, Y_train)\n",
    "        \n",
    "\n",
    "train_score = classifier.score(X_train_other, Y_train)\n",
    "test_score = classifier.score(X_test_other, Y_test)\n",
    "\n",
    "pred = classifier.predict(X_test_other)\n",
    "\n",
    "report = classification_report(Y_test, pred)\n",
    "accuracy = metrics.accuracy_score(Y_test, pred)\n",
    "\n",
    "print(report)\n",
    "print(accuracy)\n"
   ]
  },
  {
   "cell_type": "markdown",
   "metadata": {},
   "source": [
    "### Plot the Random Forest feature importance"
   ]
  },
  {
   "cell_type": "code",
   "execution_count": 84,
   "metadata": {},
   "outputs": [
    {
     "data": {
      "image/png": "[encoded data removed]",
      "text/plain": [
       "<matplotlib.figure.Figure at 0x20b40240be0>"
      ]
     },
     "metadata": {},
     "output_type": "display_data"
    }
   ],
   "source": [
    "importances = classifier.feature_importances_\n",
    "sorted_idx = np.argsort(importances)\n",
    "\n",
    "features = np.array(['logged_in','length','num_exclamation_marks','num_words'])\n",
    "\n",
    "padding = np.arange(len(features)) + 0.5\n",
    "plt.barh(padding, importances[sorted_idx], align='center')\n",
    "plt.yticks(padding, features[sorted_idx])\n",
    "plt.xlabel(\"Relative Importance\")\n",
    "plt.title(\"Variable Importance\")\n",
    "plt.show()"
   ]
  },
  {
   "cell_type": "markdown",
   "metadata": {},
   "source": [
    "# Combine Bag-of-word Features with other Features and re-classify"
   ]
  }
 ],
 "metadata": {
  "kernelspec": {
   "display_name": "Python 3",
   "language": "python",
   "name": "python3"
  },
  "language_info": {
   "codemirror_mode": {
    "name": "ipython",
    "version": 3
   },
   "file_extension": ".py",
   "mimetype": "text/x-python",
   "name": "python",
   "nbconvert_exporter": "python",
   "pygments_lexer": "ipython3",
   "version": "3.6.1"
  }
 },
 "nbformat": 4,
 "nbformat_minor": 2
}
